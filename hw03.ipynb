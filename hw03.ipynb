{
  "cells": [
    {
      "cell_type": "markdown",
      "metadata": {},
      "source": [
        "# DATASCI 101, Homework 03"
      ]
    },
    {
      "cell_type": "code",
      "execution_count": 1,
      "metadata": {},
      "outputs": [],
      "source": [
        "# basic setup, run this first\n",
        "import warnings\n",
        "warnings.simplefilter(action='ignore', category=FutureWarning)\n",
        "import numpy as np"
      ]
    },
    {
      "cell_type": "markdown",
      "metadata": {},
      "source": [
        "## Question 1\n",
        "\n",
        "We will start this homework with some questions on collections in Python.\n",
        "\n",
        "### Q1.a\n",
        "\n",
        "Recall that *sets* are collections where each value in the collection only appears once.\n",
        "\n",
        "Using the `set` function, turn both of these strings into sets. Then use set methods to find\n",
        "\n",
        "* How many letters are shared between the two names?\n",
        "* Which letters are in \"George Washington\" that are not in \"Abraham Lincoln\"?\n",
        "* How many letters are in neither president's name?\n"
      ]
    },
    {
      "cell_type": "code",
      "execution_count": 2,
      "metadata": {},
      "outputs": [
        {
          "name": "stdout",
          "output_type": "stream",
          "text": [
            "{'w', 'a', 'g', 's', 'h', 'i', 'e', 'o', 't', 'r', 'n'}\n",
            "{'a', 'b', 'i', 'n', 'm', 'o', 'l', 'h', 'c', 'r'}\n",
            "6\n",
            "{'w', 'g', 's', 'e', 't'}\n",
            "11\n"
          ]
        }
      ],
      "source": [
        "# Convert the strings into sets\n",
        "\n",
        "name1 = \"George Washington\"\n",
        "name2 = \"Abraham Lincoln\"\n",
        "\n",
        "set1 = set(name1.lower())\n",
        "set2 = set(name2.lower())\n",
        "\n",
        "# Remove spaces\n",
        "set1.discard(' ')\n",
        "set2.discard(' ')\n",
        "\n",
        "print(set1)\n",
        "print(set2)\n",
        "\n",
        "# Find out the common letters\n",
        "shared_letters = set1 & set2\n",
        "shared_count = len(shared_letters)\n",
        "print(shared_count)\n",
        "\n",
        "# Find out the unique letters\n",
        "unique_to_name1 = set1 - set2\n",
        "print(unique_to_name1)\n",
        "\n",
        "# Find out how many letters are in neither President's name\n",
        "import string\n",
        "\n",
        "alphabet_set = set(string.ascii_lowercase)\n",
        "neither_set = alphabet_set - (set1 | set2)\n",
        "count_neither = len(neither_set)\n",
        "print(count_neither)"
      ]
    },
    {
      "cell_type": "markdown",
      "metadata": {},
      "source": [
        "### Q1.b\n",
        "\n",
        "\n",
        "\n",
        "Use a `for` loop to find the unique values in the lunch orders below. Using Python, print out the number of unique items being ordered. (*Hint*: You can use `set()` to create an empty set.)"
      ]
    },
    {
      "cell_type": "code",
      "execution_count": 3,
      "metadata": {},
      "outputs": [
        {
          "data": {
            "text/plain": [
              "(7, {'coffee', 'cookie', 'fries', 'pasta', 'salad', 'sandwich', 'water'})"
            ]
          },
          "execution_count": 3,
          "metadata": {},
          "output_type": "execute_result"
        }
      ],
      "source": [
        "lunch_orders = [{\"pasta\", \"coffee\"},\n",
        "                {\"fries\",\"sandwich\", \"cookie\"},\n",
        "                {\"pasta\", \"salad\", \"water\"},\n",
        "                {\"salad\", \"pasta\", \"coffee\"},\n",
        "                {\"sandwich\", \"water\"}]\n",
        "\n",
        "# Creating an empty set to store unique items\n",
        "unique_items = set()\n",
        "\n",
        "# Using a for loop to add items to the set\n",
        "for order in lunch_orders:\n",
        "    unique_items.update(order)\n",
        "\n",
        "# The number of unique items being ordered\n",
        "unique_count = len(unique_items)\n",
        "\n",
        "unique_count, unique_items"
      ]
    },
    {
      "cell_type": "code",
      "execution_count": 4,
      "metadata": {},
      "outputs": [
        {
          "name": "stdout",
          "output_type": "stream",
          "text": [
            "Price of burger: 13\n",
            "Is burger vegetarian?: False\n"
          ]
        }
      ],
      "source": [
        "# Creating the menu dictionary\n",
        "menu = {\n",
        "    \"salad\": (8, True),\n",
        "    \"soup\": (5, False),\n",
        "    \"pasta\": (12, True),\n",
        "    \"sandwich\": (9, False),\n",
        "    \"burger\": (13, False),\n",
        "    \"fries\": (6, True),\n",
        "    \"cake\": (6, True),\n",
        "    \"cookie\": (3, True),\n",
        "    \"water\": (0, True),\n",
        "    \"coffee\": (2, True),\n",
        "    \"soda\": (3, True)\n",
        "}\n",
        "\n",
        "# Retrieving the price and vegetarian status of \"burger\"\n",
        "burger_info = menu.get(\"burger\")\n",
        "if burger_info:\n",
        "    burger_price, burger_vegetarian = burger_info\n",
        "    print(\"Price of burger:\", burger_price)\n",
        "    print(\"Is burger vegetarian?:\", burger_vegetarian)\n",
        "else:\n",
        "    print(\"Burger not found in menu.\")"
      ]
    },
    {
      "cell_type": "markdown",
      "metadata": {},
      "source": [
        "### Q1.c\n",
        "\n",
        "Here is a menu at the resturant, with items and their cost:\n",
        "\n",
        "| Item | Price | Vegetarian |\n",
        "| --- | --- | --- |\n",
        "| salad | 8 | True |\n",
        "| soup | 5 | False |\n",
        "| pasta | 12 | True |\n",
        "| sandwich | 9 | False |\n",
        "| burger | 13 | False |\n",
        "| fries | 6 | True |\n",
        "| cake | 6 | True |\n",
        "| cookie| 3 | True |\n",
        "| water | 0 | True |\n",
        "| coffee| 2 | True |\n",
        "| soda | 3 | True |\n",
        "\n",
        "Create a dictionary called `menu` that has the item names as keys and a two-tuple with (price, vegetarian) as the value.\n",
        "\n",
        "Demonstrate by retrieving the price and vegetarian status of \"burger\".\n",
        "\n",
        "\n",
        "\n",
        "### Q1.d\n",
        "\n",
        "Write a function that takes a lunch order (a set of menu items) and returns the total price.\n",
        "\n",
        "Write a function that takes a lunch order a returns true if the entire order is vegetarian.\n",
        "\n",
        "Use list comprehensions to compute the price of each order and whether each order is vegtarian."
      ]
    },
    {
      "cell_type": "code",
      "execution_count": 5,
      "metadata": {},
      "outputs": [
        {
          "name": "stdout",
          "output_type": "stream",
          "text": [
            "Order 1: Total Price = 17, Vegetarian = True\n",
            "Order 2: Total Price = 22, Vegetarian = False\n",
            "Order 3: Total Price = 20, Vegetarian = True\n"
          ]
        }
      ],
      "source": [
        "# Define the menu dictionary\n",
        "menu = {\n",
        "    \"salad\": (8, True),\n",
        "    \"soup\": (5, False),\n",
        "    \"pasta\": (12, True),\n",
        "    \"sandwich\": (9, False),\n",
        "    \"burger\": (13, False),\n",
        "    \"fries\": (6, True),\n",
        "    \"cake\": (6, True),\n",
        "    \"cookie\": (3, True),\n",
        "    \"water\": (0, True),\n",
        "    \"coffee\": (2, True),\n",
        "    \"soda\": (3, True)\n",
        "}\n",
        "\n",
        "# Function to calculate the total price of a lunch order\n",
        "def calculate_total_price(order, menu):\n",
        "    # Use list comprehension to sum the prices of the items in the order\n",
        "    total_price = sum([menu[item][0] for item in order if item in menu])\n",
        "    return total_price\n",
        "\n",
        "# Function to check if the entire lunch order is vegetarian\n",
        "def is_vegetarian_order(order, menu):\n",
        "    # Use list comprehension to check if all items in the order are vegetarian\n",
        "    return all([menu[item][1] for item in order if item in menu])\n",
        "\n",
        "# Example orders\n",
        "order1 = {\"salad\", \"fries\", \"soda\"}\n",
        "order2 = {\"burger\", \"fries\", \"soda\"}\n",
        "order3 = {\"salad\", \"pasta\", \"water\"}\n",
        "\n",
        "# Calculate total price for each order\n",
        "price_order1 = calculate_total_price(order1, menu)\n",
        "price_order2 = calculate_total_price(order2, menu)\n",
        "price_order3 = calculate_total_price(order3, menu)\n",
        "\n",
        "# Check if each order is vegetarian\n",
        "vegetarian_order1 = is_vegetarian_order(order1, menu)\n",
        "vegetarian_order2 = is_vegetarian_order(order2, menu)\n",
        "vegetarian_order3 = is_vegetarian_order(order3, menu)\n",
        "\n",
        "print(f\"Order 1: Total Price = {price_order1}, Vegetarian = {vegetarian_order1}\")\n",
        "print(f\"Order 2: Total Price = {price_order2}, Vegetarian = {vegetarian_order2}\")\n",
        "print(f\"Order 3: Total Price = {price_order3}, Vegetarian = {vegetarian_order3}\")"
      ]
    },
    {
      "cell_type": "code",
      "execution_count": 6,
      "metadata": {},
      "outputs": [],
      "source": [
        "# Hints: try running the following code\n",
        "# (\"this\", \"is\", \"a tuple\")[1]\n",
        "# [s.upper() for s in {\"hello\", \"world\"}]"
      ]
    },
    {
      "cell_type": "markdown",
      "metadata": {},
      "source": [
        "### Q1.e\n",
        "\n",
        "When you have completed your menu in the part (c) you can remove the `#` charcters make this code run:"
      ]
    },
    {
      "cell_type": "code",
      "execution_count": 7,
      "metadata": {},
      "outputs": [],
      "source": [
        "menu_dict = {\n",
        "\"name\": list(menu.keys()),\n",
        "\"price\": [i[0] for i in menu.values()],\n",
        "\"vegetarian\": [i[1] for i in menu.values()]\n",
        "}"
      ]
    },
    {
      "cell_type": "code",
      "execution_count": 8,
      "metadata": {},
      "outputs": [
        {
          "name": "stdout",
          "output_type": "stream",
          "text": [
            "Price of the most expensive item: 13\n",
            "Name of the most expensive item: burger\n",
            "Number of vegetarian items: 8\n"
          ]
        }
      ],
      "source": [
        "import numpy as np\n",
        "\n",
        "# Provided menu dictionary\n",
        "menu = {\n",
        "    \"salad\": (8, True),\n",
        "    \"soup\": (5, False),\n",
        "    \"pasta\": (12, True),\n",
        "    \"sandwich\": (9, False),\n",
        "    \"burger\": (13, False),\n",
        "    \"fries\": (6, True),\n",
        "    \"cake\": (6, True),\n",
        "    \"cookie\": (3, True),\n",
        "    \"water\": (0, True),\n",
        "    \"coffee\": (2, True),\n",
        "    \"soda\": (3, True)\n",
        "}\n",
        "\n",
        "menu_dict = {\n",
        "    \"name\": list(menu.keys()),\n",
        "    \"price\": [i[0] for i in menu.values()],\n",
        "    \"vegetarian\": [i[1] for i in menu.values()]\n",
        "}\n",
        "\n",
        "# Convert prices to a numpy array\n",
        "prices = np.array(menu_dict[\"price\"])\n",
        "\n",
        "# Find the price of the most expensive item\n",
        "max_price = np.max(prices)\n",
        "print(f\"Price of the most expensive item: {max_price}\")\n",
        "\n",
        "# Find the name of the most expensive item\n",
        "max_price_index = np.argmax(prices)\n",
        "most_expensive_item = menu_dict[\"name\"][max_price_index]\n",
        "print(f\"Name of the most expensive item: {most_expensive_item}\")\n",
        "\n",
        "# Count the number of vegetarian items\n",
        "vegetarian_count = sum(menu_dict[\"vegetarian\"])\n",
        "print(f\"Number of vegetarian items: {vegetarian_count}\")"
      ]
    },
    {
      "cell_type": "markdown",
      "metadata": {},
      "source": [
        "Use this table to compute the following:\n",
        "\n",
        "* What is the price of the most expensive item in the list?\n",
        "* What is the name of the most expensive item? (You can use the `np.argmax()` function to help you.)\n",
        "* How many vegetarian items are there?\n",
        "\n",
        "\n",
        "\n",
        "### Question 2"
      ]
    },
    {
      "cell_type": "code",
      "execution_count": 9,
      "metadata": {},
      "outputs": [],
      "source": [
        "# run this to do question 2\n",
        "import pandas as pd"
      ]
    },
    {
      "cell_type": "markdown",
      "metadata": {},
      "source": [
        "### Q2.a\n",
        "\n",
        "Here's a Pandas `DataFrame` version of our menu table."
      ]
    },
    {
      "cell_type": "code",
      "execution_count": 10,
      "metadata": {},
      "outputs": [],
      "source": [
        "menu_df = pd.DataFrame({'name': ['salad',\n",
        "  'soup',\n",
        "  'pasta',\n",
        "  'sandwich',\n",
        "  'burger',\n",
        "  'fries',\n",
        "  'cake',\n",
        "  'cookie',\n",
        "  'water',\n",
        "  'coffee',\n",
        "  'soda'],\n",
        " 'price': [8, 5, 12, 9, 13, 6, 6, 3, 0, 2, 3],\n",
        " 'vegetarian': [True,\n",
        "  False,\n",
        "  True,\n",
        "  False,\n",
        "  False,\n",
        "  True,\n",
        "  True,\n",
        "  True,\n",
        "  True,\n",
        "  True,\n",
        "  True]})"
      ]
    },
    {
      "cell_type": "markdown",
      "metadata": {},
      "source": [
        "Using **methods** for Series objects (i.e., methods called on the columns of the table. Compute the following:\n",
        "\n",
        "* The name of the least expensive item on the list.\n",
        "* The number of items that cost between 5 and 10 dollars (inclusive).\n",
        "* The names all of vegetarian items that cost more than 10 dollars."
      ]
    },
    {
      "cell_type": "code",
      "execution_count": 11,
      "metadata": {},
      "outputs": [
        {
          "name": "stdout",
          "output_type": "stream",
          "text": [
            "The name of the least expensive item: water\n",
            "The number of items that cost between 5 and 10 dollars: 5\n",
            "The names of all vegetarian items that cost more than 10 dollars: ['pasta']\n"
          ]
        }
      ],
      "source": [
        "import pandas as pd\n",
        "\n",
        "# Given DataFrame\n",
        "menu_df = pd.DataFrame({\n",
        "    'name': ['salad', 'soup', 'pasta', 'sandwich', 'burger', 'fries', 'cake', 'cookie', 'water', 'coffee', 'soda'],\n",
        "    'price': [8, 5, 12, 9, 13, 6, 6, 3, 0, 2, 3],\n",
        "    'vegetarian': [True, False, True, False, False, True, True, True, True, True, True]\n",
        "})\n",
        "\n",
        "# 1. The name of the least expensive item on the list\n",
        "least_expensive_price = menu_df['price'].min()\n",
        "least_expensive_item = menu_df[menu_df['price'] == least_expensive_price]['name'].iloc[0]\n",
        "print(f\"The name of the least expensive item: {least_expensive_item}\")\n",
        "\n",
        "# 2. The number of items that cost between 5 and 10 dollars (inclusive)\n",
        "items_in_price_range = menu_df[(menu_df['price'] >= 5) & (menu_df['price'] <= 10)]\n",
        "num_items_in_price_range = items_in_price_range.shape[0]\n",
        "print(f\"The number of items that cost between 5 and 10 dollars: {num_items_in_price_range}\")\n",
        "\n",
        "# 3. The names of all vegetarian items that cost more than 10 dollars\n",
        "vegetarian_items_over_10 = menu_df[(menu_df['vegetarian'] == True) & (menu_df['price'] > 10)]\n",
        "vegetarian_items_over_10_names = vegetarian_items_over_10['name'].tolist()\n",
        "print(f\"The names of all vegetarian items that cost more than 10 dollars: {vegetarian_items_over_10_names}\")"
      ]
    },
    {
      "cell_type": "markdown",
      "metadata": {},
      "source": [
        "### Q2.b\n",
        "\n",
        "Create a table that is only composed of items that cost less than or equal to $5 (call the `value_items`).\n"
      ]
    },
    {
      "cell_type": "code",
      "execution_count": 12,
      "metadata": {},
      "outputs": [
        {
          "name": "stdout",
          "output_type": "stream",
          "text": [
            "      name  price  vegetarian\n",
            "1     soup      5       False\n",
            "7   cookie      3        True\n",
            "8    water      0        True\n",
            "9   coffee      2        True\n",
            "10    soda      3        True\n"
          ]
        }
      ],
      "source": [
        "import pandas as pd\n",
        "\n",
        "# Given DataFrame\n",
        "menu_df = pd.DataFrame({\n",
        "    'name': ['salad', 'soup', 'pasta', 'sandwich', 'burger', 'fries', 'cake', 'cookie', 'water', 'coffee', 'soda'],\n",
        "    'price': [8, 5, 12, 9, 13, 6, 6, 3, 0, 2, 3],\n",
        "    'vegetarian': [True, False, True, False, False, True, True, True, True, True, True]\n",
        "})\n",
        "\n",
        "# Create a new table (DataFrame) for items that cost less than or equal to $5\n",
        "value_items = menu_df[menu_df['price'] <= 5]\n",
        "\n",
        "# Display the value_items DataFrame\n",
        "print(value_items)"
      ]
    },
    {
      "cell_type": "markdown",
      "metadata": {},
      "source": [
        "How many vegetarian items are in this menu?"
      ]
    },
    {
      "cell_type": "markdown",
      "metadata": {},
      "source": [
        "There are 8 vegetarian items in this menu."
      ]
    },
    {
      "cell_type": "markdown",
      "metadata": {},
      "source": [
        "## Q2.c\n",
        "\n",
        "Let's use these techniques on some real data!"
      ]
    },
    {
      "cell_type": "code",
      "execution_count": 13,
      "metadata": {},
      "outputs": [
        {
          "data": {
            "text/plain": [
              "Index(['duration_ms', 'track.explicit', 'key', 'danceability', 'energy',\n",
              "       'loudness', 'acousticness', 'instrumentalness', 'liveness', 'tempo',\n",
              "       'time_signature', 'track.popularity', 'track.album.release_date',\n",
              "       'track.name', 'artist.name'],\n",
              "      dtype='object')"
            ]
          },
          "execution_count": 13,
          "metadata": {},
          "output_type": "execute_result"
        }
      ],
      "source": [
        "spotify = pd.read_csv(\"./spotify.csv\")\n",
        "spotify.columns"
      ]
    },
    {
      "cell_type": "markdown",
      "metadata": {},
      "source": [
        "Using Python and Pandas, answer the following questions:\n",
        "\n",
        "* How many songs have a popularity greater than 80?\n",
        "* For songs with a popularity greater than 80, what is the shortest song (in miliseconds)?\n",
        "* What is the name of the song with popularity greater than 80 that has the slowest tempo?"
      ]
    },
    {
      "cell_type": "code",
      "execution_count": 14,
      "metadata": {},
      "outputs": [
        {
          "name": "stdout",
          "output_type": "stream",
          "text": [
            "Number of songs with a popularity greater than 80: 84\n",
            "The shortest song (in milliseconds) with popularity greater than 80: 109091\n",
            "The name of the song with popularity greater than 80 that has the slowest tempo: Lover\n"
          ]
        }
      ],
      "source": [
        "import pandas as pd\n",
        "\n",
        "# Load the Spotify dataset\n",
        "spotify = pd.read_csv(\"./spotify.csv\")\n",
        "\n",
        "# 1. How many songs have a popularity greater than 80?\n",
        "popular_songs = spotify[spotify['track.popularity'] > 80]\n",
        "num_popular_songs = popular_songs.shape[0]\n",
        "print(f\"Number of songs with a popularity greater than 80: {num_popular_songs}\")\n",
        "\n",
        "# 2. For songs with a popularity greater than 80, what is the shortest song (in milliseconds)?\n",
        "shortest_song_duration = popular_songs['duration_ms'].min()\n",
        "print(f\"The shortest song (in milliseconds) with popularity greater than 80: {shortest_song_duration}\")\n",
        "\n",
        "# 3. What is the name of the song with popularity greater than 80 that has the slowest tempo?\n",
        "slowest_tempo_index = popular_songs['tempo'].idxmin()\n",
        "slowest_tempo_song_name = spotify.loc[slowest_tempo_index, 'track.name']\n",
        "print(f\"The name of the song with popularity greater than 80 that has the slowest tempo: {slowest_tempo_song_name}\")"
      ]
    },
    {
      "cell_type": "markdown",
      "metadata": {},
      "source": [
        "### Q2.d\n",
        "\n",
        "Here is a little code that will create a new column with four (approximately) evenly sized groups based on popularly (low, medium, medium high, and high). The code after creating the columns shows how many rows are in each group. There are a few songs with the same popularity value, which makes it difficult to get exactly evenly sized groups, but this is pretty close. The `(a, b]` output on the left shows the popularity range of that group."
      ]
    },
    {
      "cell_type": "code",
      "execution_count": 15,
      "metadata": {},
      "outputs": [
        {
          "data": {
            "text/plain": [
              "popgrp\n",
              "(-0.001, 41.0]    250\n",
              "(53.0, 67.0]      242\n",
              "(67.0, 100.0]     238\n",
              "(41.0, 53.0]      237\n",
              "Name: count, dtype: int64"
            ]
          },
          "execution_count": 15,
          "metadata": {},
          "output_type": "execute_result"
        }
      ],
      "source": [
        "spotify[\"popgrp\"] = pd.qcut(spotify[\"track.popularity\"], 4)\n",
        "spotify[\"popgrp\"].value_counts()"
      ]
    },
    {
      "cell_type": "markdown",
      "metadata": {},
      "source": [
        "For each group, find the number of explicit songs using the `\"track.explicit\"` column. Which group has the most explicit songs?"
      ]
    },
    {
      "cell_type": "code",
      "execution_count": 16,
      "metadata": {},
      "outputs": [
        {
          "name": "stdout",
          "output_type": "stream",
          "text": [
            "popgrp\n",
            "(-0.001, 41.0]    29\n",
            "(41.0, 53.0]      24\n",
            "(53.0, 67.0]      32\n",
            "(67.0, 100.0]     73\n",
            "Name: track.explicit, dtype: int64\n",
            "The group with the most explicit songs is: (67.0, 100.0]\n",
            "The number of explicit songs in this group is: 73\n"
          ]
        }
      ],
      "source": [
        "import pandas as pd\n",
        "\n",
        "# Assuming spotify DataFrame is already loaded\n",
        "spotify[\"popgrp\"] = pd.qcut(spotify[\"track.popularity\"], 4)\n",
        "\n",
        "# Group by popgrp and sum up the explicit songs\n",
        "explicit_counts = spotify.groupby(\"popgrp\")[\"track.explicit\"].sum()\n",
        "print(explicit_counts)\n",
        "\n",
        "# Find which group has the most explicit songs\n",
        "most_explicit_group = explicit_counts.idxmax()\n",
        "most_explicit_count = explicit_counts.max()\n",
        "\n",
        "print(f\"The group with the most explicit songs is: {most_explicit_group}\")\n",
        "print(f\"The number of explicit songs in this group is: {most_explicit_count}\")"
      ]
    },
    {
      "cell_type": "markdown",
      "metadata": {},
      "source": [
        "### Q2.e\n",
        "\n",
        "Create a new column that is the product of `danceability` and `energy`. Find the song with the highest product of danceability and energy. Find the tempo of this song. Is it a particularly fast song in terms of tempo? How many songs are faster than this song? How many are slower?"
      ]
    },
    {
      "cell_type": "code",
      "execution_count": 17,
      "metadata": {},
      "outputs": [
        {
          "name": "stdout",
          "output_type": "stream",
          "text": [
            "Tempo of the song with the highest product of danceability and energy: 121.98\n",
            "Number of songs faster than this song: 394\n",
            "Number of songs slower than this song: 571\n",
            "track.name              Miracle - Radio Edit\n",
            "artist.name                        JazzyFunk\n",
            "tempo                                 121.98\n",
            "danceability                           0.936\n",
            "energy                                  0.88\n",
            "dance_energy_product                 0.82368\n",
            "Name: 702, dtype: object\n"
          ]
        }
      ],
      "source": [
        "import pandas as pd\n",
        "\n",
        "# Assuming spotify DataFrame is already loaded\n",
        "\n",
        "# Step 1: Create a new column that is the product of `danceability` and `energy`\n",
        "spotify[\"dance_energy_product\"] = spotify[\"danceability\"] * spotify[\"energy\"]\n",
        "\n",
        "# Step 2: Find the song with the highest product of `danceability` and `energy`\n",
        "max_dance_energy_index = spotify[\"dance_energy_product\"].idxmax()\n",
        "max_dance_energy_song = spotify.loc[max_dance_energy_index]\n",
        "\n",
        "# Step 3: Get the tempo of this song\n",
        "tempo_of_max_dance_energy_song = max_dance_energy_song[\"tempo\"]\n",
        "print(f\"Tempo of the song with the highest product of danceability and energy: {tempo_of_max_dance_energy_song}\")\n",
        "\n",
        "# Step 4: Compare its tempo to determine if it's particularly fast\n",
        "# Step 5: Count how many songs are faster or slower than this song\n",
        "faster_songs = spotify[spotify[\"tempo\"] > tempo_of_max_dance_energy_song].shape[0]\n",
        "slower_songs = spotify[spotify[\"tempo\"] < tempo_of_max_dance_energy_song].shape[0]\n",
        "\n",
        "print(f\"Number of songs faster than this song: {faster_songs}\")\n",
        "print(f\"Number of songs slower than this song: {slower_songs}\")\n",
        "\n",
        "# Optionally, print the details of the song with the highest product of danceability and energy\n",
        "print(max_dance_energy_song[['track.name', 'artist.name', 'tempo', 'danceability', 'energy', 'dance_energy_product']])"
      ]
    }
  ],
  "metadata": {
    "kernelspec": {
      "display_name": "Python 3 (ipykernel)",
      "language": "python",
      "name": "python3",
      "path": "/Users/mark/Documents/Professional/Teaching/umich/data-science-101-materials/env/share/jupyter/kernels/python3"
    },
    "language_info": {
      "codemirror_mode": {
        "name": "ipython",
        "version": 3
      },
      "file_extension": ".py",
      "mimetype": "text/x-python",
      "name": "python",
      "nbconvert_exporter": "python",
      "pygments_lexer": "ipython3",
      "version": "3.12.1"
    }
  },
  "nbformat": 4,
  "nbformat_minor": 4
}
